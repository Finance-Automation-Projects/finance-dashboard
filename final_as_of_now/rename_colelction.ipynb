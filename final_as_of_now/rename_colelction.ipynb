{
 "cells": [
  {
   "cell_type": "code",
   "execution_count": 6,
   "metadata": {},
   "outputs": [],
   "source": [
    "import chromadb\n",
    "\n",
    "client = chromadb.PersistentClient(\"./database\")"
   ]
  },
  {
   "cell_type": "code",
   "execution_count": 7,
   "metadata": {},
   "outputs": [
    {
     "name": "stdout",
     "output_type": "stream",
     "text": [
      "[Collection(name=summaries), Collection(name=rag_on_infosys_report)]\n"
     ]
    }
   ],
   "source": [
    "collections = client.list_collections()\n",
    "print(collections)"
   ]
  },
  {
   "cell_type": "code",
   "execution_count": 8,
   "metadata": {},
   "outputs": [
    {
     "name": "stdout",
     "output_type": "stream",
     "text": [
      "Collection renamed from 'rag_on_infosys_report' to 'INFY'\n"
     ]
    }
   ],
   "source": [
    "# Function to change collection name\n",
    "def rename_collection(client, old_name, new_name):\n",
    "    \"\"\"\n",
    "    Renames a ChromaDB collection by creating a new one and transferring data\n",
    "    \"\"\"\n",
    "    # Get old collection\n",
    "    old_collection = client.get_collection(old_name)\n",
    "    \n",
    "    # Get all data from old collection\n",
    "    data = old_collection.get()\n",
    "    \n",
    "    # Create new collection\n",
    "    new_collection = client.create_collection(new_name)\n",
    "    \n",
    "    # Transfer data if exists\n",
    "    if data['ids']:\n",
    "        new_collection.add(\n",
    "            ids=data['ids'],\n",
    "            embeddings=data['embeddings'],\n",
    "            metadatas=data['metadatas'],\n",
    "            documents=data['documents']\n",
    "        )\n",
    "    \n",
    "    # Delete old collection\n",
    "    client.delete_collection(old_name)\n",
    "    \n",
    "    return new_collection\n",
    "\n",
    "# Example usage\n",
    "old_name = \"rag_on_infosys_report\"\n",
    "new_name = \"INFY\"\n",
    "\n",
    "# Rename collection\n",
    "new_collection = rename_collection(client, old_name, new_name)\n",
    "print(f\"Collection renamed from '{old_name}' to '{new_name}'\")"
   ]
  }
 ],
 "metadata": {
  "kernelspec": {
   "display_name": "Python 3",
   "language": "python",
   "name": "python3"
  },
  "language_info": {
   "codemirror_mode": {
    "name": "ipython",
    "version": 3
   },
   "file_extension": ".py",
   "mimetype": "text/x-python",
   "name": "python",
   "nbconvert_exporter": "python",
   "pygments_lexer": "ipython3",
   "version": "3.10.12"
  }
 },
 "nbformat": 4,
 "nbformat_minor": 2
}
